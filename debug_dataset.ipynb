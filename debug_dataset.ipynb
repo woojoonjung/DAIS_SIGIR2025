{
 "cells": [
  {
   "cell_type": "code",
   "execution_count": 1,
   "metadata": {},
   "outputs": [
    {
     "name": "stderr",
     "output_type": "stream",
     "text": [
      "/usr/local/lib/python3.10/dist-packages/tqdm/auto.py:21: TqdmWarning: IProgress not found. Please update jupyter and ipywidgets. See https://ipywidgets.readthedocs.io/en/stable/user_install.html\n",
      "  from .autonotebook import tqdm as notebook_tqdm\n"
     ]
    }
   ],
   "source": [
    "import os\n",
    "import json\n",
    "import random\n",
    "import pandas as pd\n",
    "import numpy as np\n",
    "\n",
    "from transformers import (\n",
    "    BertTokenizer\n",
    ")\n",
    "from dataset import (\n",
    "    fasttext_detect_language,\n",
    "    create_data,\n",
    "    JSONDataset\n",
    ")"
   ]
  },
  {
   "cell_type": "code",
   "execution_count": null,
   "metadata": {},
   "outputs": [],
   "source": [
    "# import importlib\n",
    "# import dataset\n",
    "\n",
    "# importlib.reload(dataset)"
   ]
  },
  {
   "cell_type": "code",
   "execution_count": 2,
   "metadata": {},
   "outputs": [],
   "source": [
    "tokenizer = BertTokenizer.from_pretrained('bert-base-uncased')\n",
    "\n",
    "dataset = JSONDataset(\n",
    "    path='./data/pretraining_data_product.jsonl',\n",
    "    tokenizer=tokenizer,\n",
    "    max_length=512\n",
    ")"
   ]
  },
  {
   "cell_type": "code",
   "execution_count": 3,
   "metadata": {},
   "outputs": [
    {
     "data": {
      "text/plain": [
       "{'row_id': 149552,\n",
       " 'name': 'Dragonfly (Light) - Circle Collection',\n",
       " 'offers': {'pricevaliduntil': 'Nov. 2, 2023',\n",
       "  'pricecurrency': 'USD',\n",
       "  'availability': 'http://schema.org/InStock',\n",
       "  'price': '35.95',\n",
       "  'itemcondition': 'http://schema.org/NewCondition'},\n",
       " 'description': 'This baseball triblend t-shirt features a soft combination of cotton, polyester, and rayon blend and 3/4 sleeves. 50% Polyester, 25% 32-single, 4.3 oz. Combed & Ring-spun cotton, 25% Triblend jersey. Unisex sizing to fit most people.',\n",
       " 'sku': 'dragonfly-light-circle-collection-womens-longsleeve-t-shirt-baseball-triblend-grey_triblend_sleeves',\n",
       " 'page_url': 'https://buxmontweb.threadless.com/designs/dragonfly-light-circle-collection/womens/longsleeve-t-shirt'}"
      ]
     },
     "execution_count": 3,
     "metadata": {},
     "output_type": "execute_result"
    }
   ],
   "source": [
    "dataset.data[200]"
   ]
  },
  {
   "cell_type": "code",
   "execution_count": 4,
   "metadata": {},
   "outputs": [
    {
     "data": {
      "text/plain": [
       "{'row_id': [2, 3, 4],\n",
       " 'name': [10],\n",
       " 'offers': [21],\n",
       " 'offers.pricevaliduntil': [24, 25, 26, 27, 28],\n",
       " 'offers.pricecurrency': [37, 38, 39, 40],\n",
       " 'offers.availability': [44],\n",
       " 'offers.price': [58],\n",
       " 'offers.itemcondition': [64, 65, 66],\n",
       " 'description': [83],\n",
       " 'sku': [154, 155],\n",
       " 'page_url': [191, 192, 193, 194]}"
      ]
     },
     "execution_count": 4,
     "metadata": {},
     "output_type": "execute_result"
    }
   ],
   "source": [
    "dataset[200]['key_positions']"
   ]
  },
  {
   "cell_type": "code",
   "execution_count": null,
   "metadata": {},
   "outputs": [],
   "source": [
    "tokens = tokenizer.convert_ids_to_tokens(dataset[200]['input_ids'])\n",
    "for i in range(len(tokens)):\n",
    "    print(f\"pos: {i}, token: {tokens[i]}\")"
   ]
  },
  {
   "cell_type": "markdown",
   "metadata": {},
   "source": [
    "### Func test"
   ]
  },
  {
   "cell_type": "code",
   "execution_count": null,
   "metadata": {},
   "outputs": [],
   "source": [
    "def _serialize(json_obj):\n",
    "    \"\"\"\n",
    "    Serialize the JSON object with clear hierarchical key representation.\n",
    "    \"\"\"\n",
    "    def serialize_recursive(obj, parent_key=\"\"):\n",
    "        parts = []\n",
    "        if isinstance(obj, dict):\n",
    "            parts.append(\"{\")\n",
    "            for k, v in obj.items():\n",
    "                full_key = f\"{parent_key}.{k}\" if parent_key else k\n",
    "                parts.append(f\"{k}: {serialize_recursive(v, full_key)}\")\n",
    "                parts.append(\",\")\n",
    "            parts.append(\"}\")\n",
    "        elif isinstance(obj, list):\n",
    "            parts.append(\"[\")\n",
    "            parts.append(\", \".join([serialize_recursive(item, parent_key) for item in obj]))\n",
    "            parts.append(\"]\")\n",
    "        else:\n",
    "            parts.append(str(obj))\n",
    "        return \" \".join(parts)\n",
    "\n",
    "    serialized = serialize_recursive(json_obj)\n",
    "    return serialized"
   ]
  },
  {
   "cell_type": "code",
   "execution_count": null,
   "metadata": {},
   "outputs": [],
   "source": [
    "test_data = create_data('./data/pretraining_data_product.jsonl', 'json')"
   ]
  },
  {
   "cell_type": "code",
   "execution_count": null,
   "metadata": {},
   "outputs": [],
   "source": [
    "test_data[1]"
   ]
  },
  {
   "cell_type": "code",
   "execution_count": null,
   "metadata": {},
   "outputs": [],
   "source": [
    "test_serialize = _serialize(test_data[1])\n",
    "print(test_serialize)"
   ]
  }
 ],
 "metadata": {
  "kernelspec": {
   "display_name": "Python 3 (ipykernel)",
   "language": "python",
   "name": "python3"
  },
  "language_info": {
   "codemirror_mode": {
    "name": "ipython",
    "version": 3
   },
   "file_extension": ".py",
   "mimetype": "text/x-python",
   "name": "python",
   "nbconvert_exporter": "python",
   "pygments_lexer": "ipython3",
   "version": "3.10.12"
  }
 },
 "nbformat": 4,
 "nbformat_minor": 2
}
